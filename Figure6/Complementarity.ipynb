{
 "cells": [
  {
   "cell_type": "code",
   "execution_count": 2,
   "metadata": {
    "pycharm": {
     "is_executing": false
    }
   },
   "outputs": [],
   "source": [
    "import pandas as pd\n",
    "import matplotlib.pyplot as plt\n",
    "from scipy import stats"
   ]
  },
  {
   "cell_type": "code",
   "execution_count": 3,
   "metadata": {
    "pycharm": {
     "is_executing": true,
     "name": "#%%\n"
    }
   },
   "outputs": [
    {
     "name": "stderr",
     "output_type": "stream",
     "text": [
      "c:\\users\\shi lab\\appdata\\local\\programs\\python\\python37\\lib\\site-packages\\IPython\\core\\interactiveshell.py:3058: DtypeWarning: Columns (9) have mixed types. Specify dtype option on import or set low_memory=False.\n",
      "  interactivity=interactivity, compiler=compiler, result=result)\n"
     ]
    }
   ],
   "source": [
    "HSA = pd.read_csv(\"D:\\\\Dropbox\\\\GST_Nb_modeling\\\\interface_features\\\\HSA\\\\all_epi_stat10.csv\",header=None)\n",
    "GST = pd.read_csv(\"D:\\\\Dropbox\\\\GST_Nb_modeling\\\\interface_features\\\\GST\\\\all_epi_stat10.csv\",header=None)\n",
    "PDZ = pd.read_csv(\"D:\\\\Dropbox\\\\GST_Nb_modeling\\\\interface_features\\\\PDZ\\\\all_epi_stat10.csv\",header=None)"
   ]
  },
  {
   "cell_type": "code",
   "execution_count": 4,
   "metadata": {
    "pycharm": {
     "is_executing": false,
     "name": "#%%\n"
    }
   },
   "outputs": [
    {
     "data": {
      "text/plain": [
       "(0.5, 0.7663255649999999)"
      ]
     },
     "execution_count": 4,
     "metadata": {},
     "output_type": "execute_result"
    },
    {
     "data": {
      "image/png": "[encoded data removed]",
      "text/plain": [
       "<Figure size 360x288 with 1 Axes>"
      ]
     },
     "metadata": {
      "needs_background": "light"
     },
     "output_type": "display_data"
    }
   ],
   "source": [
    "colors = [\"#5D82A6\",\"#C19278\",\"#62A285\"]\n",
    "flierprops = dict(marker='o', markerfacecolor='lightgrey', markersize=5, linestyle='none',linewidth=0,markeredgecolor='grey',alpha=0.5)\n",
    "plt.figure(figsize=(5,4))\n",
    "plt.boxplot([1-HSA[7],1-GST[7],1-PDZ[7]],whis=(1,99),widths=[0.5,0.5,0.5],flierprops=flierprops)\n",
    "plt.ylim(ymin = 0.5)"
   ]
  },
  {
   "cell_type": "code",
   "execution_count": 5,
   "metadata": {
    "pycharm": {
     "is_executing": false,
     "name": "#%%\n"
    }
   },
   "outputs": [
    {
     "name": "stdout",
     "output_type": "stream",
     "text": [
      "GST and HSA:Ttest_indResult(statistic=-124.22974173506702, pvalue=0.0)\n",
      "PDZ and HSA:Ttest_indResult(statistic=-274.1133935642994, pvalue=0.0)\n",
      "PDZ and GST:Ttest_indResult(statistic=222.05912094559395, pvalue=0.0)\n",
      "anova:F_onewayResult(statistic=39884.60183492123, pvalue=0.0)\n"
     ]
    }
   ],
   "source": [
    "print(f\"GST and HSA:{stats.ttest_ind(HSA[7],GST[7])}\")\n",
    "print(f\"PDZ and HSA:{stats.ttest_ind(HSA[7],PDZ[7])}\")\n",
    "print(f\"PDZ and GST:{stats.ttest_ind(PDZ[7],GST[7])}\")\n",
    "print(f\"anova:{stats.f_oneway(HSA[7],GST[7],PDZ[7])}\")"
   ]
  },
  {
   "cell_type": "code",
   "execution_count": 6,
   "metadata": {
    "pycharm": {
     "is_executing": false,
     "name": "#%%\n"
    }
   },
   "outputs": [
    {
     "name": "stdout",
     "output_type": "stream",
     "text": [
      "GST and HSA:Ks_2sampResult(statistic=0.3430980923963706, pvalue=0.0)\n",
      "PDZ and HSA:Ks_2sampResult(statistic=0.8863611347248652, pvalue=0.0)\n",
      "PDZ and GST:Ks_2sampResult(statistic=0.7596686901739351, pvalue=0.0)\n"
     ]
    }
   ],
   "source": [
    "print(f\"GST and HSA:{stats.ks_2samp(HSA[7],GST[7])}\")\n",
    "print(f\"PDZ and HSA:{stats.ks_2samp(HSA[7],PDZ[7])}\")\n",
    "print(f\"PDZ and GST:{stats.ks_2samp(PDZ[7],GST[7])}\")"
   ]
  }
 ],
 "metadata": {
  "kernelspec": {
   "display_name": "Python 3",
   "language": "python",
   "name": "python3"
  },
  "language_info": {
   "codemirror_mode": {
    "name": "ipython",
    "version": 3
   },
   "file_extension": ".py",
   "mimetype": "text/x-python",
   "name": "python",
   "nbconvert_exporter": "python",
   "pygments_lexer": "ipython3",
   "version": "3.7.4"
  },
  "pycharm": {
   "stem_cell": {
    "cell_type": "raw",
    "metadata": {
     "collapsed": false
    },
    "source": []
   }
  }
 },
 "nbformat": 4,
 "nbformat_minor": 1
}

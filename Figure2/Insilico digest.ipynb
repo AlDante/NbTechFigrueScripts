{
 "cells": [
  {
   "cell_type": "code",
   "execution_count": 1,
   "metadata": {
    "pycharm": {
     "is_executing": false
    }
   },
   "outputs": [],
   "source": [
    "import re\n",
    "from Bio import SeqIO\n",
    "import pandas as pd\n",
    "from pyteomics import mass,parser\n",
    "import numpy as np\n",
    "import matplotlib.pyplot as plt"
   ]
  },
  {
   "cell_type": "code",
   "execution_count": 4,
   "metadata": {
    "pycharm": {
     "is_executing": false
    }
   },
   "outputs": [],
   "source": [
    "proteases=dict()\n",
    "proteases['Trypsin'] = re.compile(r'(K|R)(?!P)')\n",
    "proteases['Chymo'] = re.compile(r'(F|Y|W|L)')\n",
    "#proteases['GluC'] = re.compile(r'(D|E)(?!P)')\n",
    "\n",
    "mis_cleave =dict()\n",
    "mis_cleave['Trypsin'] = 1\n",
    "mis_cleave['Chymo'] = 2\n",
    "\n",
    "\n",
    "\n",
    "\n",
    "Y_CPattern = re.compile(r'Y\\wC')\n",
    "WG_GPattern = re.compile(r'(WG\\wG)|(W\\wQG)|(\\wGQG)|(\\w\\wQG)|(WG\\w\\w)|(W\\w\\wG)|(W\\wQ\\w)')"
   ]
  },
  {
   "cell_type": "code",
   "execution_count": 2,
   "metadata": {
    "pycharm": {
     "is_executing": false
    }
   },
   "outputs": [],
   "source": [
    "def find_cdr3(sequence):\n",
    "    left_area = sequence[90:105]\n",
    "    la_i = -1\n",
    "    left_cdr = -1\n",
    "    Y_C = Y_CPattern.search(left_area)\n",
    "    if Y_C != None:\n",
    "        # if we found 'YXR', find its index\n",
    "        la_i = Y_C.start(0) + 2\n",
    "    else:\n",
    "        return None\n",
    "\n",
    "    if la_i >= 0:\n",
    "        left_cdr = la_i + 90 + 3\n",
    "        \n",
    "    n1 = left_cdr + 5\n",
    "    subtract_amount = 1\n",
    "    right_area = sequence[n1:]\n",
    "    ra_i = -1\n",
    "    right_cdr = -1\n",
    "    WG_G = WG_GPattern.search(right_area)\n",
    "    if WG_G != None:\n",
    "        ra_i = WG_G.start(0)\n",
    "    else:\n",
    "        return None\n",
    "        \n",
    "    if ra_i >= 0:\n",
    "        right_cdr = ra_i + n1 - subtract_amount +1  # CDR3 ends at 'W' - 1 (or 'Q' - 3) (add n-14 to put it back in the full sequence)\n",
    "    return [left_cdr, right_cdr]\n",
    "\n",
    "def find_coverage(cdr3_region,peptide_region):\n",
    "    _start = max([cdr3_region[0], peptide_region[0]])\n",
    "    _end = min([cdr3_region[1], peptide_region[1]])\n",
    "\n",
    "    overlap = _end - _start\n",
    "    if overlap > 0:\n",
    "        return [True, overlap / (cdr3_region[1] - cdr3_region[0])]\n",
    "    else:\n",
    "        return [False, None]\n",
    "    \n",
    "    \n",
    "def get_cleaved_pos(sequence:str,cleaved_rule):\n",
    "    positions =  [pos.span()[0]+1 for pos in cleaved_rule.finditer(sequence)]\n",
    "    positions.insert(0,0)\n",
    "    positions.append(len(sequence))\n",
    "    return positions\n",
    "def get_cdr3_peptides_coverages(sequence,cdr3_region,cleaved_rule,miscleavage_allowed):\n",
    "    pos = get_cleaved_pos(sequence,cleaved_rule)\n",
    "    result = []\n",
    "    for miscleavage in range(miscleavage_allowed+1):\n",
    "        for i in range(len(pos)-miscleavage-1):\n",
    "            overlap = find_coverage(cdr3_region,[pos[i],pos[i+1+miscleavage]])\n",
    "            if overlap[0]:\n",
    "                result.append([overlap[1],mass.fast_mass(sequence[pos[i]:pos[i+1+miscleavage]]),pos[i+1+miscleavage]-pos[i],sequence[pos[i]:pos[i+1+miscleavage]]])\n",
    "    return result\n",
    "def miscleavage_cumsum_norm(num):\n",
    "    Sum = 0\n",
    "    for i in range(1,num+2):\n",
    "        Sum += i\n",
    "    return Sum\n"
   ]
  },
  {
   "cell_type": "code",
   "execution_count": 5,
   "metadata": {
    "pycharm": {
     "is_executing": false,
     "name": "#%%\n"
    }
   },
   "outputs": [],
   "source": [
    "data=dict()\n",
    "for k in proteases.keys():\n",
    "    data[k] = []\n",
    "NumSeq = 0\n",
    "\n",
    "for record in SeqIO.parse(\"D:\\\\ZheS\\\\database\\\\GST_BM\\\\7168_Mito_GST_Fam60a_EGFR_morethan2_longhinge.fasta\",format=\"fasta\"):\n",
    "    _id = str(record.id)\n",
    "    _copy = int(float(_id.split('-')[-2]))\n",
    "    if _copy <10:\n",
    "        continue\n",
    "    sequence = str(record.seq)\n",
    "    if len(sequence)<110:\n",
    "        continue\n",
    "        \n",
    "    cdr3_region = find_cdr3(sequence)\n",
    "    if cdr3_region !=None:\n",
    "        for k in proteases.keys():\n",
    "            data[k] += get_cdr3_peptides_coverages(sequence,cdr3_region,proteases[k],mis_cleave[k])\n",
    "        NumSeq+=1\n",
    "\n"
   ]
  },
  {
   "cell_type": "code",
   "execution_count": 9,
   "metadata": {
    "pycharm": {
     "is_executing": false,
     "name": "#%%\n"
    }
   },
   "outputs": [
    {
     "data": {
      "text/plain": [
       "<matplotlib.legend.Legend at 0x260c927c508>"
      ]
     },
     "execution_count": 9,
     "metadata": {},
     "output_type": "execute_result"
    },
    {
     "data": {
      "image/png": "[encoded data removed]",
      "text/plain": [
       "<Figure size 432x288 with 1 Axes>"
      ]
     },
     "metadata": {
      "needs_background": "light"
     },
     "output_type": "display_data"
    }
   ],
   "source": [
    "plt.figure()\n",
    "\n",
    "for k in proteases.keys():\n",
    "    df = pd.DataFrame(data[k],columns=['coverage','mass','Len','Sequence'])\n",
    "    h,x  = np.histogram(df['mass'], bins=np.arange(0,10000,100),weights=df['coverage']/(NumSeq*miscleavage_cumsum_norm(mis_cleave[k])))\n",
    "    h = np.cumsum(h)\n",
    "    plt.plot(x[:-1],h,label=k)\n",
    "plt.vlines(2500,0,np.max(h),linestyles='dashed')\n",
    "plt.fill_between([0,2500],0,[1,1],alpha=0.5,color='lightgrey')\n",
    "plt.xlabel(\"CDR3 Peptide Mass(Da)\")\n",
    "plt.ylabel(\"Cumulative Coverage\")\n",
    "plt.legend()\n",
    "\n",
    "#plt.savefig(\"3_proteases_performance.svg\",format='svg')"
   ]
  },
  {
   "cell_type": "code",
   "execution_count": 8,
   "metadata": {},
   "outputs": [
    {
     "data": {
      "text/plain": [
       "Text(0, 0.5, 'fraction')"
      ]
     },
     "execution_count": 8,
     "metadata": {},
     "output_type": "execute_result"
    },
    {
     "data": {
      "image/png": "[encoded data removed]",
      "text/plain": [
       "<Figure size 432x288 with 1 Axes>"
      ]
     },
     "metadata": {
      "needs_background": "light"
     },
     "output_type": "display_data"
    }
   ],
   "source": [
    "trypsin = pd.DataFrame(data['Trypsin'],columns=['coverage','mass','Len','Seq'])\n",
    "chymo = pd.DataFrame(data['Chymo'],columns=['coverage','mass','Len','Seq'])\n",
    "h,x  = np.histogram(trypsin['Len'], bins=np.arange(0,55,1),weights=np.ones(trypsin.shape[0])/trypsin.shape[0])\n",
    "plt.bar(x[:-1],h,alpha=0.5)\n",
    "h,x  = np.histogram(chymo['Len'], bins=np.arange(0,55,1),weights=np.ones(chymo.shape[0])/chymo.shape[0])\n",
    "plt.bar(x[:-1],h,alpha=0.5)\n",
    "plt.xlabel(\"Peptide length\")\n",
    "plt.ylabel(\"fraction\")"
   ]
  }
 ],
 "metadata": {
  "kernelspec": {
   "display_name": "Python 3",
   "language": "python",
   "name": "python3"
  },
  "language_info": {
   "codemirror_mode": {
    "name": "ipython",
    "version": 3
   },
   "file_extension": ".py",
   "mimetype": "text/x-python",
   "name": "python",
   "nbconvert_exporter": "python",
   "pygments_lexer": "ipython3",
   "version": "3.7.4"
  },
  "pycharm": {
   "stem_cell": {
    "cell_type": "raw",
    "metadata": {
     "collapsed": false
    },
    "source": []
   }
  }
 },
 "nbformat": 4,
 "nbformat_minor": 2
}

{
 "cells": [
  {
   "cell_type": "code",
   "execution_count": 2,
   "metadata": {
    "pycharm": {
     "is_executing": false
    }
   },
   "outputs": [],
   "source": [
    "import pandas as pd\n",
    "import seaborn as sns\n",
    "import matplotlib.pyplot as plt\n",
    "from matplotlib.colors import ListedColormap\n",
    "import matplotlib.cm as cm\n",
    "import numpy as np"
   ]
  },
  {
   "cell_type": "code",
   "execution_count": 3,
   "metadata": {
    "pycharm": {
     "is_executing": false,
     "name": "#%%\n"
    }
   },
   "outputs": [],
   "source": [
    "color = cm.get_cmap('pink', 256)\n",
    "newcolors = color(np.linspace(0.2, 0.9, 1000))[::-1]\n",
    "newcmp = ListedColormap(newcolors)"
   ]
  },
  {
   "cell_type": "code",
   "execution_count": 13,
   "metadata": {
    "pycharm": {
     "is_executing": false,
     "name": "#%%\n"
    }
   },
   "outputs": [
    {
     "data": {
      "text/plain": [
       "([<matplotlib.axis.XTick at 0x1b82d8359c8>,\n",
       "  <matplotlib.axis.XTick at 0x1b82d9ff308>,\n",
       "  <matplotlib.axis.XTick at 0x1b82daf9f48>],\n",
       " [Text(0.5, 0, 'Fraction 1'),\n",
       "  Text(1.5, 0, 'Fraction 2'),\n",
       "  Text(2.5, 0, 'Fraction 3')])"
      ]
     },
     "execution_count": 13,
     "metadata": {},
     "output_type": "execute_result"
    },
    {
     "data": {
      "image/png": "[encoded data removed]",
      "text/plain": [
       "<Figure size 432x288 with 2 Axes>"
      ]
     },
     "metadata": {
      "needs_background": "light"
     },
     "output_type": "display_data"
    }
   ],
   "source": [
    "data = pd.read_csv(\"GST_Chymo_highph_BM_FC_peptide_quantification.csv\")\n",
    "data = data.sort_values([\"type_2\",\"Z-score 1\",\"Z-score 2\",\"Z-score 3\"])\n",
    "plt.title(\"Chymo Highph\")\n",
    "sns.heatmap(data=\n",
    "            data[[i for i in data.columns if \"Z\" in i]],\n",
    "            cmap=newcmp,\n",
    "            yticklabels= False)\n",
    "plt.xticks([0.5,1.5,2.5],['Fraction 1','Fraction 2','Fraction 3'])"
   ]
  },
  {
   "cell_type": "code",
   "execution_count": 14,
   "metadata": {
    "pycharm": {
     "is_executing": false,
     "name": "#%%\n"
    }
   },
   "outputs": [
    {
     "data": {
      "text/plain": [
       "([<matplotlib.axis.XTick at 0x1b82db2fa08>,\n",
       "  <matplotlib.axis.XTick at 0x1b82db2f9c8>,\n",
       "  <matplotlib.axis.XTick at 0x1b82db8fe48>],\n",
       " [Text(0.5, 0, 'Fraction 1'),\n",
       "  Text(1.5, 0, 'Fraction 2'),\n",
       "  Text(2.5, 0, 'Fraction 3')])"
      ]
     },
     "execution_count": 14,
     "metadata": {},
     "output_type": "execute_result"
    },
    {
     "data": {
      "image/png": "[encoded data removed]",
      "text/plain": [
       "<Figure size 432x288 with 2 Axes>"
      ]
     },
     "metadata": {
      "needs_background": "light"
     },
     "output_type": "display_data"
    }
   ],
   "source": [
    "data = pd.read_csv(\"GST_Chymo_lowph_BM_FC_peptide_quantification.csv\")\n",
    "data = data.sort_values([\"type_2\",\"Z-score 1\",\"Z-score 2\",\"Z-score 3\"])\n",
    "plt.title(\"Chymo LowpH\")\n",
    "sns.heatmap(data=\n",
    "            data[[i for i in data.columns if \"Z\" in i]],\n",
    "            cmap=newcmp,\n",
    "            yticklabels= False)\n",
    "plt.xticks([0.5,1.5,2.5],['Fraction 1','Fraction 2','Fraction 3'])"
   ]
  },
  {
   "cell_type": "code",
   "execution_count": 15,
   "metadata": {
    "pycharm": {
     "is_executing": false,
     "name": "#%%\n"
    }
   },
   "outputs": [
    {
     "data": {
      "text/plain": [
       "([<matplotlib.axis.XTick at 0x1b82dbbc848>,\n",
       "  <matplotlib.axis.XTick at 0x1b82dbbc808>,\n",
       "  <matplotlib.axis.XTick at 0x1b82dc2aac8>],\n",
       " [Text(0.5, 0, 'Fraction 1'),\n",
       "  Text(1.5, 0, 'Fraction 2'),\n",
       "  Text(2.5, 0, 'Fraction 3')])"
      ]
     },
     "execution_count": 15,
     "metadata": {},
     "output_type": "execute_result"
    },
    {
     "data": {
      "image/png": "[encoded data removed]",
      "text/plain": [
       "<Figure size 432x288 with 2 Axes>"
      ]
     },
     "metadata": {
      "needs_background": "light"
     },
     "output_type": "display_data"
    }
   ],
   "source": [
    "data = pd.read_csv(\"GST_Chymo_salt_BM_FC_peptide_quantification.csv\")\n",
    "data = data.sort_values([\"type_2\",\"Z-score 1\",\"Z-score 2\",\"Z-score 3\"])\n",
    "plt.title(\"Chymo salt\")\n",
    "sns.heatmap(data=\n",
    "            data[[i for i in data.columns if \"Z\" in i]],\n",
    "            cmap=newcmp,\n",
    "            yticklabels= False)\n",
    "plt.xticks([0.5,1.5,2.5],['Fraction 1','Fraction 2','Fraction 3'])"
   ]
  },
  {
   "cell_type": "code",
   "execution_count": 16,
   "metadata": {
    "pycharm": {
     "is_executing": false,
     "name": "#%%\n"
    }
   },
   "outputs": [
    {
     "data": {
      "text/plain": [
       "([<matplotlib.axis.XTick at 0x1b82dc53188>,\n",
       "  <matplotlib.axis.XTick at 0x1b82dc53148>,\n",
       "  <matplotlib.axis.XTick at 0x1b82dcc41c8>],\n",
       " [Text(0.5, 0, 'Fraction 1'),\n",
       "  Text(1.5, 0, 'Fraction 2'),\n",
       "  Text(2.5, 0, 'Fraction 3')])"
      ]
     },
     "execution_count": 16,
     "metadata": {},
     "output_type": "execute_result"
    },
    {
     "data": {
      "image/png": "[encoded data removed]",
      "text/plain": [
       "<Figure size 432x288 with 2 Axes>"
      ]
     },
     "metadata": {
      "needs_background": "light"
     },
     "output_type": "display_data"
    }
   ],
   "source": [
    "data = pd.read_csv(\"GST_Trypsin_highph_BM_FC_peptide_quantification.csv\")\n",
    "data = data.sort_values([\"type_2\",\"Z-score 1\",\"Z-score 2\",\"Z-score 3\"])\n",
    "plt.title(\"Trypsin Highph\")\n",
    "\n",
    "sns.heatmap(data=\n",
    "            data[[i for i in data.columns if \"Z\" in i]],\n",
    "            cmap=newcmp,\n",
    "            yticklabels= False)\n",
    "plt.xticks([0.5,1.5,2.5],['Fraction 1','Fraction 2','Fraction 3'])"
   ]
  },
  {
   "cell_type": "code",
   "execution_count": 17,
   "metadata": {
    "pycharm": {
     "is_executing": false,
     "name": "#%%\n"
    }
   },
   "outputs": [
    {
     "data": {
      "text/plain": [
       "([<matplotlib.axis.XTick at 0x1b82dcec908>,\n",
       "  <matplotlib.axis.XTick at 0x1b82dcec8c8>,\n",
       "  <matplotlib.axis.XTick at 0x1b82db1dd08>],\n",
       " [Text(0.5, 0, 'Fraction 1'),\n",
       "  Text(1.5, 0, 'Fraction 2'),\n",
       "  Text(2.5, 0, 'Fraction 3')])"
      ]
     },
     "execution_count": 17,
     "metadata": {},
     "output_type": "execute_result"
    },
    {
     "data": {
      "image/png": "[encoded data removed]",
      "text/plain": [
       "<Figure size 432x288 with 2 Axes>"
      ]
     },
     "metadata": {
      "needs_background": "light"
     },
     "output_type": "display_data"
    }
   ],
   "source": [
    "data = pd.read_csv(\"GST_Trypsin_salt_BM_FC_peptide_quantification.csv\")\n",
    "data = data.sort_values([\"type_2\",\"Z-score 1\",\"Z-score 2\",\"Z-score 3\"])\n",
    "plt.title(\"Trypsin salt\")\n",
    "sns.heatmap(data=\n",
    "            data[[i for i in data.columns if \"Z\" in i]],\n",
    "            cmap=newcmp,\n",
    "            yticklabels= False)\n",
    "plt.xticks([0.5,1.5,2.5],['Fraction 1','Fraction 2','Fraction 3'])"
   ]
  },
  {
   "cell_type": "code",
   "execution_count": 18,
   "metadata": {
    "pycharm": {
     "is_executing": false,
     "name": "#%%\n"
    }
   },
   "outputs": [
    {
     "data": {
      "text/plain": [
       "([<matplotlib.axis.XTick at 0x1b82d882808>,\n",
       "  <matplotlib.axis.XTick at 0x1b82d8821c8>,\n",
       "  <matplotlib.axis.XTick at 0x1b82d7f4848>],\n",
       " [Text(0.5, 0, 'Fraction 1'),\n",
       "  Text(1.5, 0, 'Fraction 2'),\n",
       "  Text(2.5, 0, 'Fraction 3')])"
      ]
     },
     "execution_count": 18,
     "metadata": {},
     "output_type": "execute_result"
    },
    {
     "data": {
      "image/png": "[encoded data removed]",
      "text/plain": [
       "<Figure size 432x288 with 2 Axes>"
      ]
     },
     "metadata": {
      "needs_background": "light"
     },
     "output_type": "display_data"
    }
   ],
   "source": [
    "data = pd.read_csv(\"GST_Trypsin_lowph_BM_FC_peptide_quantification.csv\")\n",
    "data = data.sort_values([\"type_2\",\"Z-score 1\",\"Z-score 2\",\"Z-score 3\"])\n",
    "plt.title(\"Trypsin LowpH\")\n",
    "sns.heatmap(data=\n",
    "            data[[i for i in data.columns if \"Z\" in i]],\n",
    "            cmap=newcmp,\n",
    "            yticklabels= False)\n",
    "plt.xticks([0.5,1.5,2.5],['Fraction 1','Fraction 2','Fraction 3'])"
   ]
  }
 ],
 "metadata": {
  "kernelspec": {
   "display_name": "Python 3",
   "language": "python",
   "name": "python3"
  },
  "language_info": {
   "codemirror_mode": {
    "name": "ipython",
    "version": 3
   },
   "file_extension": ".py",
   "mimetype": "text/x-python",
   "name": "python",
   "nbconvert_exporter": "python",
   "pygments_lexer": "ipython3",
   "version": "3.7.4"
  },
  "pycharm": {
   "stem_cell": {
    "cell_type": "raw",
    "metadata": {
     "collapsed": false
    },
    "source": []
   }
  }
 },
 "nbformat": 4,
 "nbformat_minor": 1
}
